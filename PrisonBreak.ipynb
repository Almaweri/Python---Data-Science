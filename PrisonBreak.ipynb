{
 "cells": [
  {
   "cell_type": "code",
   "execution_count": 9,
   "metadata": {},
   "outputs": [],
   "source": [
    "from helper import *"
   ]
  },
  {
   "cell_type": "code",
   "execution_count": 10,
   "metadata": {},
   "outputs": [],
   "source": [
    "url = 'https://en.wikipedia.org/wiki/List_of_helicopter_prison_escapes'"
   ]
  },
  {
   "cell_type": "code",
   "execution_count": 11,
   "metadata": {},
   "outputs": [],
   "source": [
    "data = data_from_url(url)"
   ]
  },
  {
   "cell_type": "code",
   "execution_count": 12,
   "metadata": {},
   "outputs": [
    {
     "name": "stdout",
     "output_type": "stream",
     "text": [
      "['August 19, 1971', 'Santa Martha Acatitla', 'Mexico']\n",
      "['October 31, 1973', 'Mountjoy Jail', 'Ireland']\n",
      "['May 24, 1978', 'United States Penitentiary, Marion', 'United States']\n",
      "['February 27, 1981', 'Fleury-Mérogis, Essonne, Ile de France', 'France']\n",
      "['May 7, 1981', 'Orsainville Prison, Quebec City', 'Canada']\n",
      "['January, 1983', 'Pentridge (HM Prison)', 'Australia']\n",
      "['December 19, 1985', 'Perry Correctional Institution, Pelzer, South Carolina', 'United States']\n",
      "['December 31, 1985', 'Cândido Mendes penitentiary, Ilha Grande, Rio de Janeiro', 'Brazil']\n",
      "['May 26, 1986', 'Prison de la Santé', 'France']\n",
      "['November 5, 1986', 'Federal Correctional Institution, Dublin', 'United States']\n",
      "['November 23, 1986', 'Prigione di Rebibbia, Roma', 'Italy']\n",
      "['December 10, 1987', 'Gartree (HM Prison)', 'United Kingdom']\n",
      "['July 11, 1988', 'Santa Fe prison', 'United States']\n",
      "['April 17, 1989', 'Federal Holding Facility, Miami, FL', 'United States']\n",
      "['August 19, 1989', 'Arkansas Valley Correctional Facility', 'United States']\n",
      "['June 19, 1990', 'Kent Penitentiary, British Columbia', 'Canada']\n",
      "['April 7, 1991', 'Rio Piedras State Penitentiary, Puerto Rico', 'Puerto Rico']\n",
      "['February 24, 1992', 'Lyon Prison', 'France']\n",
      "['December 1992', 'Touraine Central Prison, Tours', 'France']\n",
      "['June 17, 1993', 'Touraine Central Prison, Tours', 'France']\n",
      "['December 30, 1996', 'High Security Prison, Santiago', 'Chile']\n",
      "['September 18, 1997', 'De Geerhorst jail', 'Netherlands']\n",
      "['March 25, 1999', 'Metropolitan Remand and Reception Centre', 'Australia']\n",
      "['June 5, 2000', 'Martin Treatment Center for Sexually Violent Predators, Martin County Florida', 'United States']\n",
      "['December 13, 2000', 'Lyon prison', 'France']\n",
      "['January 19, 2001', 'Luynes prison', 'France']\n",
      "['March 24, 2001', 'Draguignan prison', 'France']\n",
      "['May 28, 2001', 'Fresnes prison', 'France']\n",
      "['January 17, 2002', 'Parada Neto Penitentiary', 'Brazil']\n",
      "['December 30, 2002', 'Las Cucharas prison, Puerto Rico', 'United States']\n",
      "['April 4, 2003', 'Luynes prison', 'France']\n",
      "['July 2005', 'France', 'France']\n",
      "['December 10, 2005', 'Aiton Prison', 'France']\n",
      "['June 6, 2006', 'Korydallos Prison', 'Greece']\n",
      "['April 15, 2007', 'Lantin Prison, Liège', 'Belgium']\n",
      "['July 15, 2007', 'Grasse prison', 'France']\n",
      "['October 28, 2007', 'Ittre prison', 'Belgium']\n",
      "['February 22, 2009', 'Korydallos Prison', 'Greece']\n",
      "['April 27, 2009', 'Domenjod Prison, Réunion', 'France']\n",
      "['July 23, 2009', 'Bruges', 'Belgium']\n",
      "['June 25, 2010', 'HM Prison Isle of Wight, Isle of Wight', 'United Kingdom']\n",
      "['March 22, 2012', 'Sheksna, Penal colony N17', 'Russia']\n",
      "['February 24, 2013', 'Trikala Prison, Trikala', 'Greece']\n",
      "['March 17, 2013', 'Saint-Jérôme Detention Facility, Quebec', 'Canada']\n",
      "['June 7, 2014', 'Orsainville Detention Facility, Quebec', 'Canada']\n",
      "['February 22, 2016', 'Thiva', 'Greece']\n",
      "['July 1, 2018', 'Réau, near Paris', 'France']\n",
      "['September 25, 2020', 'Forest prison, Brussels', 'Belgium']\n"
     ]
    }
   ],
   "source": [
    "for row in data:\n",
    "    print(row[:-3])"
   ]
  }
 ],
 "metadata": {
  "kernelspec": {
   "display_name": "base",
   "language": "python",
   "name": "python3"
  },
  "language_info": {
   "codemirror_mode": {
    "name": "ipython",
    "version": 3
   },
   "file_extension": ".py",
   "mimetype": "text/x-python",
   "name": "python",
   "nbconvert_exporter": "python",
   "pygments_lexer": "ipython3",
   "version": "3.10.9"
  },
  "orig_nbformat": 4
 },
 "nbformat": 4,
 "nbformat_minor": 2
}
